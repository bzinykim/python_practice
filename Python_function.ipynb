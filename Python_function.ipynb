{
 "cells": [
  {
   "cell_type": "code",
   "execution_count": 1,
   "id": "3c6691aa",
   "metadata": {},
   "outputs": [],
   "source": [
    "def add2(x, y):\n",
    "    n = x + y\n",
    "    return n"
   ]
  },
  {
   "cell_type": "code",
   "execution_count": 2,
   "id": "2237dbbd",
   "metadata": {},
   "outputs": [
    {
     "name": "stdout",
     "output_type": "stream",
     "text": [
      "70\n"
     ]
    }
   ],
   "source": [
    "hap = add2(30, 40)\n",
    "print(hap)"
   ]
  },
  {
   "cell_type": "code",
   "execution_count": 3,
   "id": "4afe7767",
   "metadata": {},
   "outputs": [],
   "source": [
    "def add3(x, y, z = 5):\n",
    "    n = x + y + z \n",
    "    return n"
   ]
  },
  {
   "cell_type": "code",
   "execution_count": 4,
   "id": "ab84e1ce",
   "metadata": {},
   "outputs": [
    {
     "name": "stdout",
     "output_type": "stream",
     "text": [
      "305\n",
      "600\n"
     ]
    }
   ],
   "source": [
    "a = add3(100, 200)\n",
    "b = add3(100, 200, 300)\n",
    "print(a)\n",
    "print(b)"
   ]
  },
  {
   "cell_type": "code",
   "execution_count": 5,
   "id": "c83c53a1",
   "metadata": {},
   "outputs": [
    {
     "name": "stdout",
     "output_type": "stream",
     "text": [
      "200\n",
      "99\n",
      "100\n"
     ]
    },
    {
     "data": {
      "text/plain": [
       "0"
      ]
     },
     "execution_count": 5,
     "metadata": {},
     "output_type": "execute_result"
    }
   ],
   "source": [
    "# the ordef of parameteers is changeable but not recommended\n",
    "def test(x, y, z = 1):\n",
    "    print(x)\n",
    "    print(y)\n",
    "    print(z)\n",
    "    return 0\n",
    "\n",
    "test(z = 100, x=200, y=99)\n"
   ]
  },
  {
   "cell_type": "code",
   "execution_count": 9,
   "id": "6cd62a1f",
   "metadata": {},
   "outputs": [
    {
     "name": "stdout",
     "output_type": "stream",
     "text": [
      "1\n",
      "2\n",
      "1\n",
      "None\n"
     ]
    }
   ],
   "source": [
    "def testreturn(x,y,z=1):\n",
    "    print(x)\n",
    "    print(y)\n",
    "    print(z)\n",
    "    return\n",
    "a = testreturn(1,2)\n",
    "print(a)"
   ]
  },
  {
   "cell_type": "code",
   "execution_count": 10,
   "id": "87bf7e0c",
   "metadata": {},
   "outputs": [
    {
     "name": "stdout",
     "output_type": "stream",
     "text": [
      "1\n",
      "2\n",
      "1\n",
      "None\n"
     ]
    }
   ],
   "source": [
    "def testreturn(x,y,z=1):\n",
    "    print(x)\n",
    "    print(y)\n",
    "    print(z)\n",
    "a = testreturn(1,2)\n",
    "print(a)"
   ]
  },
  {
   "cell_type": "code",
   "execution_count": 11,
   "id": "89a093bd",
   "metadata": {},
   "outputs": [
    {
     "name": "stdout",
     "output_type": "stream",
     "text": [
      "(9, 20)\n",
      "<class 'tuple'>\n",
      "9 20\n",
      "<class 'int'> <class 'int'>\n"
     ]
    }
   ],
   "source": [
    "def add_mul(x,y):\n",
    "    s = x+y\n",
    "    m = x*y\n",
    "    return s, m\n",
    "a = add_mul(4,5)\n",
    "print(a)\n",
    "print(type(a))\n",
    "\n",
    "b, c = add_mul(4,5)\n",
    "print(b,c)\n",
    "print(type(b), type(c))"
   ]
  },
  {
   "cell_type": "code",
   "execution_count": 12,
   "id": "cbf5c122",
   "metadata": {},
   "outputs": [
    {
     "name": "stdout",
     "output_type": "stream",
     "text": [
      "30 40\n",
      "10 20\n"
     ]
    }
   ],
   "source": [
    "num1 = 10\n",
    "num2 = 20\n",
    "\n",
    "def add2(num1, num2):\n",
    "    print(num1, num2)\n",
    "    return(num1 + num2)\n",
    "\n",
    "# add2(num1 = 30, num2 =40)도 동일\n",
    "add2(30, 40)\n",
    "\n",
    "print(num1, num2)"
   ]
  },
  {
   "cell_type": "code",
   "execution_count": 13,
   "id": "0a9d8a35",
   "metadata": {},
   "outputs": [
    {
     "name": "stdout",
     "output_type": "stream",
     "text": [
      "30 40\n",
      "10 20\n"
     ]
    }
   ],
   "source": [
    "num1= 10\n",
    "num2 = 20\n",
    "\n",
    "def add2(in1, in2):\n",
    "    print(in1, in2)\n",
    "    return (in1 + in2)\n",
    "\n",
    "add2(30, 40)\n",
    "\n",
    "print(num1, num2)"
   ]
  },
  {
   "cell_type": "code",
   "execution_count": 14,
   "id": "9a69d5bb",
   "metadata": {},
   "outputs": [
    {
     "name": "stdout",
     "output_type": "stream",
     "text": [
      "<class 'tuple'>\n",
      "<class 'tuple'>\n",
      "1\n",
      "<class 'tuple'>\n",
      "1\n",
      "2\n",
      "3\n"
     ]
    }
   ],
   "source": [
    "def test(*args):\n",
    "    print(type(args))\n",
    "    for item in args:\n",
    "        print(item)\n",
    "        \n",
    "test()\n",
    "test(1)\n",
    "test(1,2,3)"
   ]
  },
  {
   "cell_type": "code",
   "execution_count": 17,
   "id": "156f54bd",
   "metadata": {
    "scrolled": false
   },
   "outputs": [
    {
     "name": "stdout",
     "output_type": "stream",
     "text": [
      "<class 'dict'>\n",
      "a 1\n",
      "b 2\n",
      "c 3\n",
      "d 4\n",
      "name kang\n"
     ]
    }
   ],
   "source": [
    "def test2(**x):\n",
    "    print(type(x))\n",
    "    for key in x:\n",
    "        print(key, x[key])\n",
    "    return\n",
    "test2(a=1, b=2, c=3, d=4, name='kang')"
   ]
  },
  {
   "cell_type": "code",
   "execution_count": 18,
   "id": "bfb3e2fa",
   "metadata": {},
   "outputs": [
    {
     "name": "stdout",
     "output_type": "stream",
     "text": [
      "온도 : 20, 습도 : 90%, 강수확률 : 100%\n"
     ]
    }
   ],
   "source": [
    "#example function : format()\n",
    "\n",
    "a = \"온도 : {}, 습도 : {}%, 강수확률 : {}%\".format(20,90,100)\n",
    "print(a)"
   ]
  },
  {
   "cell_type": "code",
   "execution_count": 20,
   "id": "519ae2fa",
   "metadata": {},
   "outputs": [
    {
     "name": "stdout",
     "output_type": "stream",
     "text": [
      "온도 : 20, 습도 : 90%, 강수확률 : 100%\n"
     ]
    }
   ],
   "source": [
    "#place holder가 많아서 헷갈리는 경우 : 이름 명시\n",
    "a = \"온도 : {temp}, 습도 : {humidity}%, 강수확률 : {rain}%\".format(rain=100, humidity=90, temp=20)\n",
    "print(a)"
   ]
  },
  {
   "cell_type": "markdown",
   "id": "ffa28096",
   "metadata": {},
   "source": [
    "# lambda function"
   ]
  },
  {
   "cell_type": "code",
   "execution_count": 21,
   "id": "1a5ea617",
   "metadata": {},
   "outputs": [
    {
     "data": {
      "text/plain": [
       "25"
      ]
     },
     "execution_count": 21,
     "metadata": {},
     "output_type": "execute_result"
    }
   ],
   "source": [
    "def square(x):\n",
    "    return (x**2)\n",
    "\n",
    "square(5)"
   ]
  },
  {
   "cell_type": "code",
   "execution_count": 22,
   "id": "0efe5bc8",
   "metadata": {},
   "outputs": [
    {
     "name": "stdout",
     "output_type": "stream",
     "text": [
      "25\n",
      "<class 'function'>\n"
     ]
    }
   ],
   "source": [
    "square2 = lambda x:x**2\n",
    "print(square2(5))\n",
    "print(type(square2))"
   ]
  },
  {
   "cell_type": "code",
   "execution_count": 23,
   "id": "cc4fe44a",
   "metadata": {},
   "outputs": [
    {
     "data": {
      "text/plain": [
       "3"
      ]
     },
     "execution_count": 23,
     "metadata": {},
     "output_type": "execute_result"
    }
   ],
   "source": [
    "add = lambda x,y : x+y\n",
    "add(1,2)"
   ]
  },
  {
   "cell_type": "code",
   "execution_count": 26,
   "id": "25e46c75",
   "metadata": {},
   "outputs": [
    {
     "name": "stdout",
     "output_type": "stream",
     "text": [
      "['alexander', 'bob', 'charies', 'jane', 'teddy']\n"
     ]
    }
   ],
   "source": [
    "#Examplet combining with sort()\n",
    "\n",
    "strings = ['bob', 'charies', 'alexander', 'teddy', 'jane']\n",
    "strings.sort()\n",
    "print(strings)"
   ]
  },
  {
   "cell_type": "code",
   "execution_count": 27,
   "id": "47025449",
   "metadata": {},
   "outputs": [
    {
     "name": "stdout",
     "output_type": "stream",
     "text": [
      "['bob', 'jane', 'teddy', 'charies', 'alexander']\n"
     ]
    }
   ],
   "source": [
    "def str_len(s):\n",
    "    return len(s)\n",
    "strings = ['bob', 'charies', 'alexander', 'teddy', 'jane']\n",
    "strings.sort(key=str_len)\n",
    "print(strings)"
   ]
  },
  {
   "cell_type": "code",
   "execution_count": 31,
   "id": "f0091cbc",
   "metadata": {},
   "outputs": [
    {
     "name": "stdout",
     "output_type": "stream",
     "text": [
      "['alexander', 'charies', 'teddy', 'jane', 'bob']\n"
     ]
    }
   ],
   "source": [
    "def str_len(s):\n",
    "    return len(s)\n",
    "strings = ['bob', 'charies', 'alexander', 'teddy', 'jane']\n",
    "strings.sort(key=str_len, reverse=True)\n",
    "print(strings)"
   ]
  },
  {
   "cell_type": "code",
   "execution_count": 28,
   "id": "8eb4623b",
   "metadata": {},
   "outputs": [
    {
     "name": "stdout",
     "output_type": "stream",
     "text": [
      "['bob', 'jane', 'teddy', 'charies', 'alexander']\n"
     ]
    }
   ],
   "source": [
    "strings = ['bob', 'charies', 'alexander', 'teddy', 'jane']\n",
    "strings.sort(key=lambda s:len(s))\n",
    "print(strings)"
   ]
  },
  {
   "cell_type": "code",
   "execution_count": 29,
   "id": "f99e967b",
   "metadata": {},
   "outputs": [
    {
     "name": "stdout",
     "output_type": "stream",
     "text": [
      "[10, 2, 8]\n"
     ]
    }
   ],
   "source": [
    "def even(n):\n",
    "    return n%2==0\n",
    "a = [10,13,2,3,8,9,17]\n",
    "b = list(filter(even, a))\n",
    "print(b)"
   ]
  },
  {
   "cell_type": "code",
   "execution_count": 30,
   "id": "e8319807",
   "metadata": {},
   "outputs": [
    {
     "name": "stdout",
     "output_type": "stream",
     "text": [
      "[10, 2, 8]\n"
     ]
    }
   ],
   "source": [
    "a = [10,13,2,3,8,9,17]\n",
    "b = list(filter(lambda n:n%2==0, a))\n",
    "print(b)"
   ]
  },
  {
   "cell_type": "code",
   "execution_count": 33,
   "id": "b896cce7",
   "metadata": {},
   "outputs": [
    {
     "name": "stdout",
     "output_type": "stream",
     "text": [
      "[True, False, True, False, True, False, False]\n"
     ]
    }
   ],
   "source": [
    "a = [10,13,2,3,8,9,17]\n",
    "b = list(map(lambda n:n%2==0, a))\n",
    "print(b)"
   ]
  },
  {
   "cell_type": "code",
   "execution_count": 34,
   "id": "6c1a004a",
   "metadata": {},
   "outputs": [
    {
     "name": "stdout",
     "output_type": "stream",
     "text": [
      "[10, 13, 2, 3, 8, 9, 17]\n"
     ]
    }
   ],
   "source": [
    "a = [10,13,2,3,8,9,17]\n",
    "b = list(filter(lambda n:n**2, a))\n",
    "print(b)"
   ]
  },
  {
   "cell_type": "code",
   "execution_count": 37,
   "id": "a1121548",
   "metadata": {},
   "outputs": [
    {
     "name": "stdout",
     "output_type": "stream",
     "text": [
      "15\n"
     ]
    }
   ],
   "source": [
    "import functools\n",
    "\n",
    "a = [1,2,3,4,5]\n",
    "b = functools.reduce(lambda x,y:x+y, a)\n",
    "print(b)"
   ]
  },
  {
   "cell_type": "code",
   "execution_count": 42,
   "id": "dcc8ea06",
   "metadata": {},
   "outputs": [
    {
     "name": "stdout",
     "output_type": "stream",
     "text": [
      "-13\n"
     ]
    }
   ],
   "source": [
    "import functools\n",
    "\n",
    "a = [1,2,3,4,5]\n",
    "b = functools.reduce(lambda x,y:x-y, a)\n",
    "print(b)"
   ]
  },
  {
   "cell_type": "code",
   "execution_count": 38,
   "id": "020a4d52",
   "metadata": {},
   "outputs": [
    {
     "name": "stdout",
     "output_type": "stream",
     "text": [
      "49.5\n"
     ]
    }
   ],
   "source": [
    "def mean(nums):\n",
    "    _sum = 0\n",
    "    for i in nums:\n",
    "        _sum += i\n",
    "    return(_sum/len(nums))\n",
    "\n",
    "a = range(100)\n",
    "b = mean(a)\n",
    "print(b)        "
   ]
  },
  {
   "cell_type": "code",
   "execution_count": 39,
   "id": "84414543",
   "metadata": {},
   "outputs": [
    {
     "name": "stdout",
     "output_type": "stream",
     "text": [
      "True\n",
      "False\n",
      "True\n"
     ]
    }
   ],
   "source": [
    "def is_prime(num):\n",
    "    for i in range(2, num):\n",
    "        if num % i == 0:\n",
    "            return(False)\n",
    "    return(True)\n",
    "\n",
    "print(is_prime(5))\n",
    "print(is_prime(25))\n",
    "print(is_prime(37))"
   ]
  },
  {
   "cell_type": "code",
   "execution_count": 41,
   "id": "83b38595",
   "metadata": {},
   "outputs": [
    {
     "name": "stdout",
     "output_type": "stream",
     "text": [
      "3\n",
      "4\n",
      "25\n"
     ]
    }
   ],
   "source": [
    "def num_prime(num):\n",
    "    count = 0\n",
    "    for i in range(2,num+1):\n",
    "        if is_prime(i):\n",
    "            count += 1\n",
    "    return(count)\n",
    "\n",
    "print(num_prime(5))\n",
    "print(num_prime(7))\n",
    "print(num_prime(100))"
   ]
  },
  {
   "cell_type": "code",
   "execution_count": null,
   "id": "c1c2a72a",
   "metadata": {},
   "outputs": [],
   "source": []
  }
 ],
 "metadata": {
  "kernelspec": {
   "display_name": "Python 3 (ipykernel)",
   "language": "python",
   "name": "python3"
  },
  "language_info": {
   "codemirror_mode": {
    "name": "ipython",
    "version": 3
   },
   "file_extension": ".py",
   "mimetype": "text/x-python",
   "name": "python",
   "nbconvert_exporter": "python",
   "pygments_lexer": "ipython3",
   "version": "3.10.4"
  }
 },
 "nbformat": 4,
 "nbformat_minor": 5
}
