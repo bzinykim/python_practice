{
 "cells": [
  {
   "cell_type": "markdown",
   "id": "a4b18caa",
   "metadata": {},
   "source": [
    "# 기출 1"
   ]
  },
  {
   "cell_type": "code",
   "execution_count": null,
   "id": "62f93f72",
   "metadata": {},
   "outputs": [],
   "source": []
  },
  {
   "cell_type": "code",
   "execution_count": 1,
   "id": "8f91961b",
   "metadata": {},
   "outputs": [
    {
     "name": "stdout",
     "output_type": "stream",
     "text": [
      "10x100x200x11.4???"
     ]
    }
   ],
   "source": [
    "a,b = 10, 11.4\n",
    "print(a, 100, 200, b, sep='x', end='???')"
   ]
  },
  {
   "cell_type": "code",
   "execution_count": null,
   "id": "680cd071",
   "metadata": {},
   "outputs": [],
   "source": []
  },
  {
   "cell_type": "markdown",
   "id": "b221595e",
   "metadata": {},
   "source": [
    "* <틀림, 다시보기>"
   ]
  },
  {
   "cell_type": "code",
   "execution_count": 3,
   "id": "1a8e4053",
   "metadata": {},
   "outputs": [
    {
     "name": "stdout",
     "output_type": "stream",
     "text": [
      "ello hello d\n"
     ]
    }
   ],
   "source": [
    "a = 'hello world'\n",
    "print(a[1:5],a[:5],a[-1])\n",
    "\n",
    "#ello hello d \n",
    "\n",
    "# 띄어쓰기 주의"
   ]
  },
  {
   "cell_type": "code",
   "execution_count": 4,
   "id": "43146740",
   "metadata": {},
   "outputs": [
    {
     "name": "stdout",
     "output_type": "stream",
     "text": [
      "xyzELLO WORLD\n"
     ]
    }
   ],
   "source": [
    "a = 'hello world'\n",
    "print(a.upper().replace('H','xyz'))\n",
    "\n",
    "#HELLO WORLD\n",
    "#xyzELLO WORLD"
   ]
  },
  {
   "cell_type": "code",
   "execution_count": 5,
   "id": "f5fce631",
   "metadata": {},
   "outputs": [
    {
     "name": "stdout",
     "output_type": "stream",
     "text": [
      "오늘 기온 25.5도, 비올 확률 80.0%\n"
     ]
    }
   ],
   "source": [
    "temp = 25.5\n",
    "prob = 80.0\n",
    "print('오늘 기온 {}도, 비올 확률 {}%'.format(temp, prob))"
   ]
  },
  {
   "cell_type": "code",
   "execution_count": null,
   "id": "ac235e02",
   "metadata": {},
   "outputs": [],
   "source": []
  },
  {
   "cell_type": "markdown",
   "id": "2ec23e9a",
   "metadata": {},
   "source": [
    "* <틀림, 다시보기>"
   ]
  },
  {
   "cell_type": "code",
   "execution_count": 6,
   "id": "59f59785",
   "metadata": {},
   "outputs": [
    {
     "name": "stdout",
     "output_type": "stream",
     "text": [
      "<class 'list'> ['hello ', 'orld']\n"
     ]
    }
   ],
   "source": [
    "a = 'hello world'\n",
    "b = a.split('w')\n",
    "print(type(b), b)\n",
    "\n",
    "# list, hellowworld \n",
    "\n",
    "# <class 'list'> ['hello', 'orld']"
   ]
  },
  {
   "cell_type": "code",
   "execution_count": null,
   "id": "45ba8724",
   "metadata": {},
   "outputs": [],
   "source": []
  },
  {
   "cell_type": "markdown",
   "id": "2aaf5ca2",
   "metadata": {},
   "source": [
    "* <틀림, 다시보기>"
   ]
  },
  {
   "cell_type": "code",
   "execution_count": 7,
   "id": "369d9a75",
   "metadata": {},
   "outputs": [
    {
     "name": "stdout",
     "output_type": "stream",
     "text": [
      "['A', 'B', 'C']\n"
     ]
    }
   ],
   "source": [
    "a = 'ABC'\n",
    "b = list(a)\n",
    "print(b)\n",
    "\n",
    "# [A,B,C]\n",
    "\n",
    "# 작은 따옴표 주의"
   ]
  },
  {
   "cell_type": "code",
   "execution_count": 8,
   "id": "fc362618",
   "metadata": {},
   "outputs": [
    {
     "name": "stdout",
     "output_type": "stream",
     "text": [
      "[2, 4, 6, 8]\n"
     ]
    }
   ],
   "source": [
    "a = [1,2,3,4,5,6,7,8,9,10]\n",
    "print(a[1:9:2])\n",
    "\n",
    "# [2, 4, 6, 8]"
   ]
  },
  {
   "cell_type": "code",
   "execution_count": null,
   "id": "ad2e2f74",
   "metadata": {},
   "outputs": [],
   "source": []
  },
  {
   "cell_type": "markdown",
   "id": "b3d82c5e",
   "metadata": {},
   "source": [
    "* <틀림, 다시보기>"
   ]
  },
  {
   "cell_type": "code",
   "execution_count": 10,
   "id": "15f8240c",
   "metadata": {},
   "outputs": [
    {
     "name": "stdout",
     "output_type": "stream",
     "text": [
      "[1, 2, 3, [4, 5, 6]]\n",
      "[1, 2, 3, [4, 5, 6], 4, 5, 6]\n"
     ]
    }
   ],
   "source": [
    "a = [1,2,3]\n",
    "b = [4,5,6]\n",
    "a.append(b)\n",
    "print(a)\n",
    "a.extend(b)\n",
    "print(a)\n",
    "\n",
    "# [[1,2,3],[4,5,6]]\n",
    "# [1,2,3,4,5,6]\n",
    "\n",
    "#[1,2,3,[4,5,6],4,5,6]"
   ]
  },
  {
   "cell_type": "code",
   "execution_count": 12,
   "id": "5f7dc81c",
   "metadata": {},
   "outputs": [
    {
     "name": "stdout",
     "output_type": "stream",
     "text": [
      "C False\n"
     ]
    }
   ],
   "source": [
    "a = {1:'A', 2:'B', 3:3, 0:'C'}\n",
    "c = 'B' in a\n",
    "print(a[0],c)\n",
    "\n",
    "# C False"
   ]
  },
  {
   "cell_type": "code",
   "execution_count": 13,
   "id": "36648c89",
   "metadata": {},
   "outputs": [
    {
     "name": "stdout",
     "output_type": "stream",
     "text": [
      "[1, 2, 3, 0] ['A', 'B', 3, 'C']\n"
     ]
    }
   ],
   "source": [
    "a = {1:'A', 2:'B', 3:3, 0:'C'}\n",
    "b = list(a.keys())\n",
    "c = list(a.values())\n",
    "print(b,c)\n",
    "\n",
    "# [1,2,3,0] ['A','B',3,'C']"
   ]
  },
  {
   "cell_type": "code",
   "execution_count": 14,
   "id": "dc52b481",
   "metadata": {},
   "outputs": [
    {
     "name": "stdout",
     "output_type": "stream",
     "text": [
      "131\n"
     ]
    }
   ],
   "source": [
    "a = [1,10,20,100]\n",
    "b = 0\n",
    "for x in a:\n",
    "    b += x\n",
    "print(b)\n",
    "\n",
    "# 131"
   ]
  },
  {
   "cell_type": "code",
   "execution_count": 15,
   "id": "75a08f32",
   "metadata": {},
   "outputs": [
    {
     "name": "stdout",
     "output_type": "stream",
     "text": [
      "6이 5보다 크다\n"
     ]
    }
   ],
   "source": [
    "if 6>5:\n",
    "    print('6이 5보다 크다')\n",
    "else:\n",
    "    print('test')\n",
    "    print('end')\n",
    "\n",
    "# 6이 5보다 크다 "
   ]
  },
  {
   "cell_type": "code",
   "execution_count": 16,
   "id": "6a9bbc4f",
   "metadata": {},
   "outputs": [
    {
     "name": "stdout",
     "output_type": "stream",
     "text": [
      "1\n",
      "2\n",
      "3\n",
      "0\n"
     ]
    }
   ],
   "source": [
    "a = {1:'A', 2:'B', 3:3, 0:'C'}\n",
    "for x in a:\n",
    "    print(x)\n",
    "\n",
    "# 1\n",
    "# 2\n",
    "# 3\n",
    "# 0"
   ]
  },
  {
   "cell_type": "code",
   "execution_count": 17,
   "id": "0efbce86",
   "metadata": {},
   "outputs": [
    {
     "name": "stdout",
     "output_type": "stream",
     "text": [
      "1 A\n",
      "2 B\n",
      "3 3\n",
      "0 C\n"
     ]
    }
   ],
   "source": [
    "a = {1:'A', 2:'B', 3:3, 0:'C'}\n",
    "for x,y in a.items():\n",
    "    print(x, y)\n",
    "    \n",
    "# 1 A\n",
    "# 2 B\n",
    "# 3 3\n",
    "# 0 C"
   ]
  },
  {
   "cell_type": "code",
   "execution_count": 19,
   "id": "cf0effdb",
   "metadata": {},
   "outputs": [
    {
     "name": "stdout",
     "output_type": "stream",
     "text": [
      "0\n",
      "1\n",
      "2\n",
      "3\n"
     ]
    }
   ],
   "source": [
    "a = [10,20,30,40]\n",
    "for x,y in enumerate(a):\n",
    "    print(x)\n",
    "    \n",
    "# 0\n",
    "# 1\n",
    "# 2\n",
    "# 3"
   ]
  },
  {
   "cell_type": "code",
   "execution_count": 21,
   "id": "1cda4e46",
   "metadata": {},
   "outputs": [
    {
     "name": "stdout",
     "output_type": "stream",
     "text": [
      "1 x 1 = 1\n",
      "1 x 2 = 2\n",
      "1 x 3 = 3\n",
      "1 x 4 = 4\n",
      "1 x 5 = 5\n",
      "1 x 6 = 6\n",
      "1 x 7 = 7\n",
      "1 x 8 = 8\n",
      "1 x 9 = 9\n",
      "2 x 1 = 2\n",
      "2 x 2 = 4\n",
      "2 x 3 = 6\n",
      "2 x 4 = 8\n",
      "2 x 5 = 10\n",
      "2 x 6 = 12\n",
      "2 x 7 = 14\n",
      "2 x 8 = 16\n",
      "2 x 9 = 18\n",
      "3 x 1 = 3\n",
      "3 x 2 = 6\n",
      "3 x 3 = 9\n",
      "3 x 4 = 12\n",
      "3 x 5 = 15\n",
      "3 x 6 = 18\n",
      "3 x 7 = 21\n",
      "3 x 8 = 24\n",
      "3 x 9 = 27\n",
      "4 x 1 = 4\n",
      "4 x 2 = 8\n",
      "4 x 3 = 12\n",
      "4 x 4 = 16\n",
      "4 x 5 = 20\n",
      "4 x 6 = 24\n",
      "4 x 7 = 28\n",
      "4 x 8 = 32\n",
      "4 x 9 = 36\n",
      "5 x 1 = 5\n",
      "5 x 2 = 10\n",
      "5 x 3 = 15\n",
      "5 x 4 = 20\n",
      "5 x 5 = 25\n",
      "5 x 6 = 30\n",
      "5 x 7 = 35\n",
      "5 x 8 = 40\n",
      "5 x 9 = 45\n",
      "6 x 1 = 6\n",
      "6 x 2 = 12\n",
      "6 x 3 = 18\n",
      "6 x 4 = 24\n",
      "6 x 5 = 30\n",
      "6 x 6 = 36\n",
      "6 x 7 = 42\n",
      "6 x 8 = 48\n",
      "6 x 9 = 54\n",
      "7 x 1 = 7\n",
      "7 x 2 = 14\n",
      "7 x 3 = 21\n",
      "7 x 4 = 28\n",
      "7 x 5 = 35\n",
      "7 x 6 = 42\n",
      "7 x 7 = 49\n",
      "7 x 8 = 56\n",
      "7 x 9 = 63\n",
      "8 x 1 = 8\n",
      "8 x 2 = 16\n",
      "8 x 3 = 24\n",
      "8 x 4 = 32\n",
      "8 x 5 = 40\n",
      "8 x 6 = 48\n",
      "8 x 7 = 56\n",
      "8 x 8 = 64\n",
      "8 x 9 = 72\n",
      "9 x 1 = 9\n",
      "9 x 2 = 18\n",
      "9 x 3 = 27\n",
      "9 x 4 = 36\n",
      "9 x 5 = 45\n",
      "9 x 6 = 54\n",
      "9 x 7 = 63\n",
      "9 x 8 = 72\n",
      "9 x 9 = 81\n"
     ]
    }
   ],
   "source": [
    "for i in range(1, 10):\n",
    "    for j in range(1,10):\n",
    "        print(i,'x',j,'=',i*j)"
   ]
  },
  {
   "cell_type": "code",
   "execution_count": 22,
   "id": "52519b2c",
   "metadata": {},
   "outputs": [
    {
     "name": "stdout",
     "output_type": "stream",
     "text": [
      "8 6\n"
     ]
    }
   ],
   "source": [
    "def add(x,y,z=5):\n",
    "    return x+y+z\n",
    "a = add(1,2)\n",
    "b = add(1,2,3)\n",
    "print(a,b)\n",
    "\n",
    "# 8 6"
   ]
  },
  {
   "cell_type": "code",
   "execution_count": 23,
   "id": "282b1c20",
   "metadata": {},
   "outputs": [
    {
     "name": "stdout",
     "output_type": "stream",
     "text": [
      "4 3 10\n"
     ]
    }
   ],
   "source": [
    "def test(x,y,z=5):\n",
    "    print(x,y,z)\n",
    "    return\n",
    "test(z=10,x=4,y=3)\n",
    "\n",
    "# 4 3 10"
   ]
  },
  {
   "cell_type": "markdown",
   "id": "ab625a7e",
   "metadata": {},
   "source": [
    "* <틀림, 다시보기>"
   ]
  },
  {
   "cell_type": "code",
   "execution_count": 25,
   "id": "134e18c1",
   "metadata": {},
   "outputs": [
    {
     "name": "stdout",
     "output_type": "stream",
     "text": [
      "(5, 6)\n"
     ]
    }
   ],
   "source": [
    "def fun(x,y):\n",
    "    return x+y, x*y\n",
    "a= fun(2,3)\n",
    "print(a)\n",
    "\n",
    "# [5, 6]\n",
    "\n",
    "# 리스트 x, 튜플 o"
   ]
  },
  {
   "cell_type": "markdown",
   "id": "13a75b6c",
   "metadata": {},
   "source": [
    "* <틀림, 다시보기>"
   ]
  },
  {
   "cell_type": "code",
   "execution_count": 27,
   "id": "5e610190",
   "metadata": {},
   "outputs": [
    {
     "name": "stdout",
     "output_type": "stream",
     "text": [
      "<class 'tuple'>\n",
      "1\n",
      "2\n",
      "3\n"
     ]
    }
   ],
   "source": [
    "def test(*args):\n",
    "    print(type(args))\n",
    "    for x in args:\n",
    "        print(x)\n",
    "test(1,2,3)\n",
    "\n",
    "# <class list>\n",
    "# 1\n",
    "# 2\n",
    "# 3\n",
    "\n",
    "# list x, tuple o"
   ]
  },
  {
   "cell_type": "code",
   "execution_count": 28,
   "id": "f9ddc7ff",
   "metadata": {},
   "outputs": [
    {
     "name": "stdout",
     "output_type": "stream",
     "text": [
      "Bob 30\n"
     ]
    }
   ],
   "source": [
    "class Person:\n",
    "    def __init__(self, name, age=10):\n",
    "        self.name = name\n",
    "        self.age = age\n",
    "        self.hobby = 'singing'\n",
    "p1 = Person('Bob', 30)\n",
    "print(p1.name, p1.age)\n"
   ]
  },
  {
   "cell_type": "code",
   "execution_count": 31,
   "id": "01546d68",
   "metadata": {},
   "outputs": [],
   "source": [
    "class Studuent(Person):\n",
    "    def __init__(self,name,age=10):\n",
    "        self.name = name\n",
    "        self.age = age\n",
    "        self.hobby = 'singing'"
   ]
  },
  {
   "cell_type": "code",
   "execution_count": 32,
   "id": "f9396d65",
   "metadata": {},
   "outputs": [
    {
     "name": "stdout",
     "output_type": "stream",
     "text": [
      "(3, 2)\n"
     ]
    }
   ],
   "source": [
    "import numpy as np\n",
    "arr = np.array([[1,2],[1,2],[1,2]])\n",
    "print(arr.shape)\n",
    "\n",
    "# (3,2)"
   ]
  },
  {
   "cell_type": "code",
   "execution_count": null,
   "id": "e784f686",
   "metadata": {},
   "outputs": [],
   "source": []
  },
  {
   "cell_type": "markdown",
   "id": "1b4d3f1e",
   "metadata": {},
   "source": [
    "* <틀림, 다시보기>"
   ]
  },
  {
   "cell_type": "code",
   "execution_count": 34,
   "id": "0a9dc585",
   "metadata": {},
   "outputs": [
    {
     "name": "stdout",
     "output_type": "stream",
     "text": [
      "[[1 2 1]\n",
      " [2 1 2]]\n"
     ]
    }
   ],
   "source": [
    "print(arr.reshape(2,-1))\n",
    "\n",
    "# [[1,2,1],[2,1,2]]\n",
    "\n",
    "# print 된건 콤마(,) 안쓰고 띄어쓰기"
   ]
  },
  {
   "cell_type": "code",
   "execution_count": null,
   "id": "6827beae",
   "metadata": {},
   "outputs": [],
   "source": []
  },
  {
   "cell_type": "markdown",
   "id": "ca981b04",
   "metadata": {},
   "source": [
    "* <틀림, 다시보기>"
   ]
  },
  {
   "cell_type": "code",
   "execution_count": 37,
   "id": "e467b859",
   "metadata": {},
   "outputs": [
    {
     "name": "stdout",
     "output_type": "stream",
     "text": [
      "(1, 3, 2)\n"
     ]
    }
   ],
   "source": [
    "arr = np.array([[1,2],[1,2],[1,2]])\n",
    "arr = np.expand_dims(arr, 0)\n",
    "print(arr.shape)\n",
    "\n",
    "# (0,3,2)\n",
    "\n",
    "# 0 이 아니고 1"
   ]
  },
  {
   "cell_type": "code",
   "execution_count": null,
   "id": "9dfa9401",
   "metadata": {},
   "outputs": [],
   "source": []
  },
  {
   "cell_type": "markdown",
   "id": "5da64806",
   "metadata": {},
   "source": [
    "# 기출 2"
   ]
  },
  {
   "cell_type": "code",
   "execution_count": null,
   "id": "50b3eed1",
   "metadata": {},
   "outputs": [],
   "source": []
  },
  {
   "cell_type": "code",
   "execution_count": 39,
   "id": "c8a63ac8",
   "metadata": {},
   "outputs": [
    {
     "name": "stdout",
     "output_type": "stream",
     "text": [
      "hello,hello \"world\",o,l,HELLO\n"
     ]
    }
   ],
   "source": [
    "a = \"hello\"\n",
    "b = 'hello \"world\"'\n",
    "print(a,b,a[-1],a[-2],a.upper(),sep=',')\n",
    "\n",
    "# hello,hello \"world\",o,l,HELLO"
   ]
  },
  {
   "cell_type": "code",
   "execution_count": 41,
   "id": "d8878d14",
   "metadata": {},
   "outputs": [
    {
     "data": {
      "text/plain": [
       "'HHHELLO'"
      ]
     },
     "execution_count": 41,
     "metadata": {},
     "output_type": "execute_result"
    }
   ],
   "source": [
    "a.replace('h','hhh').upper()\n",
    "\n",
    "# 'HHHELLO'"
   ]
  },
  {
   "cell_type": "code",
   "execution_count": 43,
   "id": "2bfe9aef",
   "metadata": {},
   "outputs": [
    {
     "name": "stdout",
     "output_type": "stream",
     "text": [
      "(1, 2, 3) [1, 2, 3]\n"
     ]
    }
   ],
   "source": [
    "c = 1, 2, 3\n",
    "d = list(c)\n",
    "print(c, d)\n",
    "\n",
    "# (1,2,3) [1,2,3]"
   ]
  },
  {
   "cell_type": "code",
   "execution_count": null,
   "id": "d3548d5d",
   "metadata": {},
   "outputs": [],
   "source": []
  },
  {
   "cell_type": "markdown",
   "id": "aa943e76",
   "metadata": {},
   "source": [
    "* <틀림, 다시보기>"
   ]
  },
  {
   "cell_type": "code",
   "execution_count": 45,
   "id": "6b05b8ee",
   "metadata": {},
   "outputs": [
    {
     "name": "stdout",
     "output_type": "stream",
     "text": [
      "[1, 2, 3, 4, 5] [1, 2] [2, 3, 4, 5] [2]\n"
     ]
    }
   ],
   "source": [
    "a = [1,2,3,4,5]\n",
    "print(a[:], a[:2], a[1:], a[1:2])\n",
    "\n",
    "# [1,2,3,4,5],[1,2,3,4,5],?\n",
    "\n",
    "#[1,2,3,4,5] [1,2] [2,3,4,5] [2]"
   ]
  },
  {
   "cell_type": "code",
   "execution_count": null,
   "id": "3fa96328",
   "metadata": {},
   "outputs": [],
   "source": []
  },
  {
   "cell_type": "code",
   "execution_count": 46,
   "id": "037ea467",
   "metadata": {},
   "outputs": [
    {
     "name": "stdout",
     "output_type": "stream",
     "text": [
      "[1, 10, 2, 3, 4, 5]\n"
     ]
    }
   ],
   "source": [
    "a = [1,2,3,4,5]\n",
    "a.insert(1,10)\n",
    "print(a)\n",
    "\n",
    "# [1,10,3,4,5]"
   ]
  },
  {
   "cell_type": "markdown",
   "id": "fae1f1c0",
   "metadata": {},
   "source": []
  },
  {
   "cell_type": "markdown",
   "id": "35ca7406",
   "metadata": {},
   "source": [
    "* <헷갈림, 다시보기>"
   ]
  },
  {
   "cell_type": "code",
   "execution_count": 48,
   "id": "e33db2c6",
   "metadata": {},
   "outputs": [
    {
     "name": "stdout",
     "output_type": "stream",
     "text": [
      "[1, 3, 4, 5]\n"
     ]
    }
   ],
   "source": [
    "a = [1,2,3,4,5]\n",
    "a.remove(2)\n",
    "print(a)\n",
    "\n",
    "# [1,3,4,5]"
   ]
  },
  {
   "cell_type": "code",
   "execution_count": 50,
   "id": "f02c2a84",
   "metadata": {},
   "outputs": [
    {
     "name": "stdout",
     "output_type": "stream",
     "text": [
      "True\n"
     ]
    }
   ],
   "source": [
    "a = [1,2,3,4,5]\n",
    "b = 3\n",
    "c = b in a\n",
    "print(c)\n",
    "\n",
    "# True"
   ]
  },
  {
   "cell_type": "code",
   "execution_count": 51,
   "id": "ad2dd48f",
   "metadata": {},
   "outputs": [
    {
     "name": "stdout",
     "output_type": "stream",
     "text": [
      "[-1, 0, 2, 3, 5, 8, 9]\n"
     ]
    }
   ],
   "source": [
    "a = [0,2,8,3,5,9,-1]\n",
    "a.sort()\n",
    "print(a)\n",
    "\n",
    "# [-1,0,2,3,5,8,9]"
   ]
  },
  {
   "cell_type": "code",
   "execution_count": null,
   "id": "c36bfdb7",
   "metadata": {},
   "outputs": [],
   "source": []
  },
  {
   "cell_type": "markdown",
   "id": "9f2df7ab",
   "metadata": {},
   "source": [
    "* <헷갈림, 다시보기>"
   ]
  },
  {
   "cell_type": "code",
   "execution_count": 52,
   "id": "bc38ce90",
   "metadata": {},
   "outputs": [
    {
     "name": "stdout",
     "output_type": "stream",
     "text": [
      "<class 'dict'> 2 dict_keys([1, 3, 5, 7]) dict_values([2, 4, 6, 8])\n"
     ]
    }
   ],
   "source": [
    "a = {1:2, 3:4, 5:6, 7:8}\n",
    "print(type(a), a[1], a.keys(), a.values())\n",
    "\n",
    "# ()가 아니라 []"
   ]
  },
  {
   "cell_type": "code",
   "execution_count": null,
   "id": "c26150ce",
   "metadata": {},
   "outputs": [],
   "source": []
  },
  {
   "cell_type": "markdown",
   "id": "800ce357",
   "metadata": {},
   "source": [
    "* <틀림, 다시보기>"
   ]
  },
  {
   "cell_type": "code",
   "execution_count": 54,
   "id": "c47479ad",
   "metadata": {},
   "outputs": [
    {
     "name": "stdout",
     "output_type": "stream",
     "text": [
      "False 4\n"
     ]
    }
   ],
   "source": [
    "a = {1:2, 3:4, 5:6, 7:8}\n",
    "c = 2 in a\n",
    "print(c, a.get(3))\n",
    "\n",
    "# False ? \n",
    "\n",
    "# False 3 "
   ]
  },
  {
   "cell_type": "code",
   "execution_count": 56,
   "id": "13a2117f",
   "metadata": {},
   "outputs": [
    {
     "name": "stdout",
     "output_type": "stream",
     "text": [
      "this is true\n"
     ]
    }
   ],
   "source": [
    "a,b,c = 10, 20, 30\n",
    "if(a==10 and b==20) or c==100:\n",
    "    print('{} is true'.format('this'))\n",
    "else:\n",
    "    print('{} is false'.format('this'))\n",
    "    \n",
    "# this is true"
   ]
  },
  {
   "cell_type": "code",
   "execution_count": 57,
   "id": "e9683547",
   "metadata": {},
   "outputs": [
    {
     "name": "stdout",
     "output_type": "stream",
     "text": [
      "1\n",
      "10\n",
      "20\n"
     ]
    }
   ],
   "source": [
    "a = [1, 10, 20, 100]\n",
    "i = 0\n",
    "while i < len(a)-1:\n",
    "    print(a[i])\n",
    "    i+=1\n",
    "\n",
    "# 1\n",
    "# 10\n",
    "# 20"
   ]
  },
  {
   "cell_type": "code",
   "execution_count": 58,
   "id": "73180494",
   "metadata": {},
   "outputs": [
    {
     "name": "stdout",
     "output_type": "stream",
     "text": [
      "1\n",
      "10\n",
      "20\n",
      "100\n"
     ]
    }
   ],
   "source": [
    "a = [1,10,20,100]\n",
    "for x in a:\n",
    "    print(x)\n",
    "    \n",
    "# 1\n",
    "# 10\n",
    "# 20\n",
    "# 100"
   ]
  },
  {
   "cell_type": "code",
   "execution_count": 59,
   "id": "f7b26014",
   "metadata": {},
   "outputs": [
    {
     "name": "stdout",
     "output_type": "stream",
     "text": [
      "1\n",
      "3\n",
      "5\n",
      "7\n"
     ]
    }
   ],
   "source": [
    "a = {1:2, 3:4, 5:6, 7:8}\n",
    "for x in a:\n",
    "    print(x)\n",
    "    \n",
    "# 1\n",
    "# 3\n",
    "# 5\n",
    "# 7"
   ]
  },
  {
   "cell_type": "code",
   "execution_count": 60,
   "id": "4c1d4452",
   "metadata": {},
   "outputs": [
    {
     "name": "stdout",
     "output_type": "stream",
     "text": [
      "2\n",
      "4\n",
      "6\n",
      "8\n"
     ]
    }
   ],
   "source": [
    "a = {1:2, 3:4, 5:6, 7:8}\n",
    "for x in a.values():\n",
    "    print(x)\n",
    "    \n",
    "# 2\n",
    "# 4\n",
    "# 6\n",
    "# 8"
   ]
  },
  {
   "cell_type": "code",
   "execution_count": 61,
   "id": "622ae057",
   "metadata": {},
   "outputs": [
    {
     "name": "stdout",
     "output_type": "stream",
     "text": [
      "1 2\n",
      "3 4\n",
      "5 6\n",
      "7 8\n"
     ]
    }
   ],
   "source": [
    "for x, y in a.items():\n",
    "    print(x,y)\n",
    "    \n",
    "# 1 2\n",
    "# 3 4\n",
    "# 5 6\n",
    "# 7 8"
   ]
  },
  {
   "cell_type": "code",
   "execution_count": 62,
   "id": "2aafe5de",
   "metadata": {},
   "outputs": [
    {
     "name": "stdout",
     "output_type": "stream",
     "text": [
      "0 1\n",
      "1 3\n",
      "2 2\n",
      "3 2\n"
     ]
    }
   ],
   "source": [
    "a = [1,3,2,2]\n",
    "for x, y in enumerate(a):\n",
    "    if y>=1:\n",
    "        print(x,y)\n",
    "        \n",
    "# 0 1\n",
    "# 1 3\n",
    "# 2 2\n",
    "# 3 2"
   ]
  },
  {
   "cell_type": "code",
   "execution_count": 63,
   "id": "9eedbb58",
   "metadata": {},
   "outputs": [
    {
     "name": "stdout",
     "output_type": "stream",
     "text": [
      "[10, 11, 12, 13, 14]\n"
     ]
    }
   ],
   "source": [
    "b = list(range(10,15))\n",
    "print(b)\n",
    "\n",
    "# [10, 11, 12, 13, 14]"
   ]
  },
  {
   "cell_type": "code",
   "execution_count": 64,
   "id": "86ec99b4",
   "metadata": {},
   "outputs": [
    {
     "name": "stdout",
     "output_type": "stream",
     "text": [
      "(20, 0) (0, 20)\n"
     ]
    }
   ],
   "source": [
    "def fun(x,y,z=10):\n",
    "    n = x+y-z\n",
    "    m = x-y+z\n",
    "    return n,m\n",
    "print(fun(10,20), fun(10,20,30))\n",
    "\n",
    "# (20, 0) (0, 20)"
   ]
  },
  {
   "cell_type": "code",
   "execution_count": 66,
   "id": "4cd603de",
   "metadata": {},
   "outputs": [
    {
     "name": "stdout",
     "output_type": "stream",
     "text": [
      "30 40\n",
      "10 20\n"
     ]
    }
   ],
   "source": [
    "num1, num2 = 10, 20\n",
    "def add(num1, num2):\n",
    "    print(num1, num2)\n",
    "    return num1 + num2\n",
    "add(30,40)\n",
    "print(num1, num2)\n",
    "\n",
    "# 30 40\n",
    "# 10 20"
   ]
  },
  {
   "cell_type": "code",
   "execution_count": 67,
   "id": "e12aa37a",
   "metadata": {},
   "outputs": [
    {
     "name": "stdout",
     "output_type": "stream",
     "text": [
      "<class 'tuple'>\n",
      "10\n",
      "20\n",
      "30\n"
     ]
    }
   ],
   "source": [
    "def test(*args):\n",
    "    print(type(args))\n",
    "    for x in args:\n",
    "        print(x)\n",
    "test(10,20,30)\n",
    "\n",
    "# <class 'tuple'>\n",
    "# 10\n",
    "# 20\n",
    "# 30"
   ]
  },
  {
   "cell_type": "code",
   "execution_count": 68,
   "id": "4bd31625",
   "metadata": {},
   "outputs": [
    {
     "name": "stdout",
     "output_type": "stream",
     "text": [
      "30\n"
     ]
    }
   ],
   "source": [
    "f = lambda x,y : x+y\n",
    "print(f(10,20))\n",
    "\n",
    "# 30"
   ]
  },
  {
   "cell_type": "code",
   "execution_count": null,
   "id": "1aaeb8db",
   "metadata": {},
   "outputs": [],
   "source": []
  },
  {
   "cell_type": "markdown",
   "id": "72e66bc3",
   "metadata": {},
   "source": [
    "* <틀림, 다시보기>"
   ]
  },
  {
   "cell_type": "code",
   "execution_count": 70,
   "id": "178df229",
   "metadata": {},
   "outputs": [
    {
     "name": "stdout",
     "output_type": "stream",
     "text": [
      "['a', 'ab', 'abc', 'abcd']\n"
     ]
    }
   ],
   "source": [
    "def str_len(s):\n",
    "    return len(s)\n",
    "strings = ['abcd', 'ab', 'abc', 'a']\n",
    "strings.sort(key=str_len)\n",
    "print(strings)\n",
    "\n",
    "# a ab abc abcd\n",
    "\n",
    "# ['a', 'ab', 'abc', 'abcd']"
   ]
  },
  {
   "cell_type": "code",
   "execution_count": null,
   "id": "4ff139a1",
   "metadata": {},
   "outputs": [],
   "source": []
  },
  {
   "cell_type": "markdown",
   "id": "548dddd1",
   "metadata": {},
   "source": [
    "* <헷갈림, 다시보기>"
   ]
  },
  {
   "cell_type": "code",
   "execution_count": 71,
   "id": "20c30f6c",
   "metadata": {},
   "outputs": [
    {
     "name": "stdout",
     "output_type": "stream",
     "text": [
      "[False, True, True, True, False]\n"
     ]
    }
   ],
   "source": [
    "a = [13,4,2,8,9]\n",
    "b = list(map(lambda n:n%2==0, a))\n",
    "print(b)\n",
    "\n",
    "# [False,True,True,True,False]"
   ]
  },
  {
   "cell_type": "code",
   "execution_count": 72,
   "id": "c3cb79d3",
   "metadata": {},
   "outputs": [],
   "source": [
    "import numpy as np"
   ]
  },
  {
   "cell_type": "code",
   "execution_count": 73,
   "id": "ad15f526",
   "metadata": {},
   "outputs": [
    {
     "name": "stdout",
     "output_type": "stream",
     "text": [
      "(3, 1) 2 (3, 2) 4\n"
     ]
    }
   ],
   "source": [
    "arr1 = np.array([[1],[2],[3]])\n",
    "arr2 = np.array([[1,2],[2,3],[3,4]])\n",
    "print(arr1.shape, arr1[1,0],arr2.shape, arr2[2,1])\n",
    "\n",
    "# (3,1) 2 (3,2) 4"
   ]
  },
  {
   "cell_type": "code",
   "execution_count": null,
   "id": "bdfc5346",
   "metadata": {},
   "outputs": [],
   "source": []
  },
  {
   "cell_type": "markdown",
   "id": "7a70c412",
   "metadata": {},
   "source": [
    "* <틀림, 다시보기>"
   ]
  },
  {
   "cell_type": "code",
   "execution_count": 75,
   "id": "dee9805c",
   "metadata": {},
   "outputs": [
    {
     "name": "stdout",
     "output_type": "stream",
     "text": [
      "[4 5 6 7 8 9]\n",
      "[[4 5 6]\n",
      " [7 8 9]]\n",
      "[[4 5]\n",
      " [6 7]\n",
      " [8 9]]\n"
     ]
    }
   ],
   "source": [
    "arr = np.arange(4,10)\n",
    "print(arr)\n",
    "print(arr.reshape(2,3))\n",
    "print(arr.reshape(3,-1))\n",
    "\n",
    "# [4 5 6 7 8 9]\n",
    "\n",
    "# [[4 5 6]\n",
    "#  [7 8 9]]\n",
    "\n",
    "#[[4 5]\n",
    "# [6 7]\n",
    "# [8 9]]"
   ]
  },
  {
   "cell_type": "code",
   "execution_count": 76,
   "id": "d5c2097b",
   "metadata": {},
   "outputs": [
    {
     "data": {
      "text/plain": [
       "array([[2, 0, 2],\n",
       "       [2, 2, 2]])"
      ]
     },
     "execution_count": 76,
     "metadata": {},
     "output_type": "execute_result"
    }
   ],
   "source": [
    "data = np.random.randint(3,size=6).reshape(2,3)\n",
    "data"
   ]
  },
  {
   "cell_type": "code",
   "execution_count": null,
   "id": "e562bdf1",
   "metadata": {},
   "outputs": [],
   "source": []
  },
  {
   "cell_type": "markdown",
   "id": "25245360",
   "metadata": {},
   "source": [
    "* <틀림, 다시보기>"
   ]
  },
  {
   "cell_type": "code",
   "execution_count": 78,
   "id": "170d068d",
   "metadata": {},
   "outputs": [
    {
     "data": {
      "text/plain": [
       "array([[2, 0, 2],\n",
       "       [2, 2, 2]])"
      ]
     },
     "execution_count": 78,
     "metadata": {},
     "output_type": "execute_result"
    }
   ],
   "source": [
    "data[data<=1] = 0.0\n",
    "data\n",
    "\n",
    "# array[0.0,0,0.0]"
   ]
  },
  {
   "cell_type": "code",
   "execution_count": 79,
   "id": "380e564f",
   "metadata": {},
   "outputs": [
    {
     "data": {
      "text/plain": [
       "(6,)"
      ]
     },
     "execution_count": 79,
     "metadata": {},
     "output_type": "execute_result"
    }
   ],
   "source": [
    "arr = np.array([[1,2],[2,3],[3,4]]).reshape(-1)\n",
    "arr.shape\n",
    "\n",
    "# (6,)"
   ]
  },
  {
   "cell_type": "code",
   "execution_count": null,
   "id": "d4acaab2",
   "metadata": {},
   "outputs": [],
   "source": []
  },
  {
   "cell_type": "markdown",
   "id": "042d7250",
   "metadata": {},
   "source": [
    "* <틀림, 다시보기>"
   ]
  },
  {
   "cell_type": "code",
   "execution_count": 80,
   "id": "e4c0b34a",
   "metadata": {},
   "outputs": [
    {
     "name": "stdout",
     "output_type": "stream",
     "text": [
      "[[[1 2]\n",
      "  [2 3]\n",
      "  [3 4]]]\n",
      "(1, 3, 2)\n",
      "[[[1 2]]\n",
      "\n",
      " [[2 3]]\n",
      "\n",
      " [[3 4]]]\n",
      "(3, 1, 2)\n",
      "[[[1]\n",
      "  [2]]\n",
      "\n",
      " [[2]\n",
      "  [3]]\n",
      "\n",
      " [[3]\n",
      "  [4]]]\n",
      "(3, 2, 1)\n"
     ]
    }
   ],
   "source": [
    "arr =np.array([[1,2],[2,3],[3,4]])\n",
    "arr1 = np.expand_dims(arr,0)\n",
    "arr2 = np.expand_dims(arr,1)\n",
    "arr3 = np.expand_dims(arr,-1)\n",
    "print(arr1)\n",
    "print(arr1.shape)\n",
    "print(arr2)\n",
    "print(arr2.shape)\n",
    "print(arr3)\n",
    "print(arr3.shape)\n",
    "# [[[1 2][2 3][3 4]]]\n",
    "# (1,3,2)\n",
    "# [[[[1 2][2 3][3 4]]]]\n",
    "# (1,1,3,2)\n",
    "# ?\n",
    "# (1,1,3,2,1)"
   ]
  },
  {
   "cell_type": "code",
   "execution_count": 81,
   "id": "6a416314",
   "metadata": {},
   "outputs": [],
   "source": [
    "class Person:\n",
    "    def __init__(self,name, age):\n",
    "        self.name = name\n",
    "        self.age = age\n",
    "        self.hobby = 'singing'"
   ]
  },
  {
   "cell_type": "code",
   "execution_count": null,
   "id": "0bdcd44a",
   "metadata": {},
   "outputs": [],
   "source": []
  }
 ],
 "metadata": {
  "kernelspec": {
   "display_name": "Python 3 (ipykernel)",
   "language": "python",
   "name": "python3"
  },
  "language_info": {
   "codemirror_mode": {
    "name": "ipython",
    "version": 3
   },
   "file_extension": ".py",
   "mimetype": "text/x-python",
   "name": "python",
   "nbconvert_exporter": "python",
   "pygments_lexer": "ipython3",
   "version": "3.10.4"
  }
 },
 "nbformat": 4,
 "nbformat_minor": 5
}
