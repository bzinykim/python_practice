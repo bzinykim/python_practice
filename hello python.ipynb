{
 "cells": [
  {
   "cell_type": "code",
   "execution_count": null,
   "id": "109a3849",
   "metadata": {},
   "outputs": [],
   "source": [
    "print('hello python')"
   ]
  },
  {
   "cell_type": "markdown",
   "id": "b16b08c9",
   "metadata": {},
   "source": [
    "단축키 m = markdown (마크다운, 주석)\n",
    "**python** is vert good\n",
    "- python nice"
   ]
  },
  {
   "cell_type": "code",
   "execution_count": null,
   "id": "a84285e4",
   "metadata": {},
   "outputs": [],
   "source": []
  }
 ],
 "metadata": {
  "kernelspec": {
   "display_name": "Python 3 (ipykernel)",
   "language": "python",
   "name": "python3"
  },
  "language_info": {
   "codemirror_mode": {
    "name": "ipython",
    "version": 3
   },
   "file_extension": ".py",
   "mimetype": "text/x-python",
   "name": "python",
   "nbconvert_exporter": "python",
   "pygments_lexer": "ipython3",
   "version": "3.10.4"
  }
 },
 "nbformat": 4,
 "nbformat_minor": 5
}
