{
 "cells": [
  {
   "cell_type": "code",
   "execution_count": 1,
   "id": "e6bc7fa9",
   "metadata": {},
   "outputs": [
    {
     "name": "stdout",
     "output_type": "stream",
     "text": [
      "이 코드가 프린트될까요?\n",
      "끝\n"
     ]
    }
   ],
   "source": [
    "if 6 < 5 :\n",
    "    print('6은 5이상이다.')\n",
    "print('이 코드가 프린트될까요?')\n",
    "print('끝')"
   ]
  },
  {
   "cell_type": "code",
   "execution_count": 2,
   "id": "c1a1195f",
   "metadata": {},
   "outputs": [
    {
     "name": "stdout",
     "output_type": "stream",
     "text": [
      "true\n"
     ]
    }
   ],
   "source": [
    "if 'hello':\n",
    "    print('true')"
   ]
  },
  {
   "cell_type": "code",
   "execution_count": 4,
   "id": "0bbf0256",
   "metadata": {},
   "outputs": [
    {
     "name": "stdout",
     "output_type": "stream",
     "text": [
      "1번째 조건이 참이다\n",
      "2번째 조건이 거짓이다\n",
      "3번째 조건이 참이다\n"
     ]
    }
   ],
   "source": [
    "a, b, c = 10, 20, 30\n",
    "if(a==10 and b==20) or c == 100:\n",
    "    print('1번째 조건이 참이다')\n",
    "else:\n",
    "    print('1번째 조건이 거짓이다')\n",
    "if a!=10:\n",
    "    print('2번째 조건이 참이다')\n",
    "else:\n",
    "    print('2번째 조건이 거짓이다')\n",
    "if not a==20:\n",
    "    print('3번째 조건이 참이다')"
   ]
  },
  {
   "cell_type": "code",
   "execution_count": 6,
   "id": "353b8d8d",
   "metadata": {},
   "outputs": [
    {
     "name": "stdout",
     "output_type": "stream",
     "text": [
      "16는 나머지가 0이다.\n"
     ]
    }
   ],
   "source": [
    "a = 16\n",
    "if a%4 == 0:\n",
    "    print('{}는 나머지가 0이다.'.format(a))\n",
    "elif a%4 == 1:\n",
    "    print('{}는 나머지가 1이다.'.format(a))\n",
    "elif a%4 == 2:\n",
    "    print('{}는 나머지가 2이다.'.format(a))\n",
    "else:\n",
    "    print('{}는 나머지가 3이다.'.format(a))"
   ]
  },
  {
   "cell_type": "code",
   "execution_count": 7,
   "id": "ac4d1c96",
   "metadata": {},
   "outputs": [
    {
     "name": "stdout",
     "output_type": "stream",
     "text": [
      "16는 나머지가 0이다.\n",
      "16는 나머지가 3이다.\n"
     ]
    }
   ],
   "source": [
    "a = 16\n",
    "if a%4 == 0:\n",
    "    print('{}는 나머지가 0이다.'.format(a))\n",
    "if a%4 == 1:\n",
    "    print('{}는 나머지가 1이다.'.format(a))\n",
    "if a%4 == 2:\n",
    "    print('{}는 나머지가 2이다.'.format(a))\n",
    "else:\n",
    "    print('{}는 나머지가 3이다.'.format(a))"
   ]
  },
  {
   "cell_type": "code",
   "execution_count": 8,
   "id": "1efef49b",
   "metadata": {},
   "outputs": [
    {
     "name": "stdout",
     "output_type": "stream",
     "text": [
      "value =  1 index =  0\n",
      "value =  10 index =  1\n",
      "value =  20 index =  2\n",
      "value =  100 index =  3\n",
      "end\n"
     ]
    }
   ],
   "source": [
    "a = [1, 10, 20, 100]\n",
    "i = 0\n",
    "while i < len(a):\n",
    "    print('value = ', a[i], 'index = ',i)\n",
    "    i+=1\n",
    "print('end')"
   ]
  },
  {
   "cell_type": "code",
   "execution_count": 9,
   "id": "f91694c0",
   "metadata": {},
   "outputs": [
    {
     "name": "stdout",
     "output_type": "stream",
     "text": [
      "1 2\n",
      "10 20\n",
      "20 40\n",
      "100 200\n"
     ]
    }
   ],
   "source": [
    "a = [1, 10, 20, 100]\n",
    "for value in a:\n",
    "    print(value, value*2)"
   ]
  },
  {
   "cell_type": "code",
   "execution_count": 10,
   "id": "71490834",
   "metadata": {},
   "outputs": [
    {
     "name": "stdout",
     "output_type": "stream",
     "text": [
      "h\n",
      "e\n",
      "l\n",
      "l\n",
      "o\n",
      " \n",
      "w\n",
      "o\n",
      "r\n",
      "l\n",
      "d\n"
     ]
    }
   ],
   "source": [
    "a = 'hello world'\n",
    "for char in a:\n",
    "    print(char)"
   ]
  },
  {
   "cell_type": "code",
   "execution_count": 11,
   "id": "2989ddde",
   "metadata": {},
   "outputs": [
    {
     "name": "stdout",
     "output_type": "stream",
     "text": [
      "korea seoul\n",
      "canada ottava\n",
      "japan tokyo\n"
     ]
    }
   ],
   "source": [
    "a = {'korea' : 'seoul', 'canada' : 'ottava', 'japan' : 'tokyo'}\n",
    "for key in a:\n",
    "    print(key, a[key])"
   ]
  },
  {
   "cell_type": "code",
   "execution_count": 12,
   "id": "01a09f74",
   "metadata": {},
   "outputs": [
    {
     "name": "stdout",
     "output_type": "stream",
     "text": [
      "korea seoul\n",
      "canada ottava\n",
      "japan tokyo\n"
     ]
    }
   ],
   "source": [
    "for key in a.keys():\n",
    "    print(key,a[key])"
   ]
  },
  {
   "cell_type": "code",
   "execution_count": 13,
   "id": "cd95f1b8",
   "metadata": {},
   "outputs": [
    {
     "name": "stdout",
     "output_type": "stream",
     "text": [
      "seoul\n",
      "ottava\n",
      "tokyo\n"
     ]
    }
   ],
   "source": [
    "for value in a.values():\n",
    "    print(value)"
   ]
  },
  {
   "cell_type": "code",
   "execution_count": 14,
   "id": "c8d91add",
   "metadata": {},
   "outputs": [
    {
     "name": "stdout",
     "output_type": "stream",
     "text": [
      "<class 'list'>\n",
      "[('korea', 'seoul'), ('canada', 'ottava'), ('japan', 'tokyo')]\n"
     ]
    }
   ],
   "source": [
    "a = {'korea' : 'seoul', 'canada' : 'ottava', 'japan' : 'tokyo'}\n",
    "b = list(a.items())\n",
    "print(type(b))\n",
    "print(b)"
   ]
  },
  {
   "cell_type": "code",
   "execution_count": 15,
   "id": "7d6f14a4",
   "metadata": {},
   "outputs": [
    {
     "name": "stdout",
     "output_type": "stream",
     "text": [
      "korea seoul\n",
      "canada ottava\n",
      "japan tokyo\n"
     ]
    }
   ],
   "source": [
    "for key, value in b:\n",
    "    print(key, value)"
   ]
  },
  {
   "cell_type": "code",
   "execution_count": 16,
   "id": "432d0172",
   "metadata": {},
   "outputs": [
    {
     "name": "stdout",
     "output_type": "stream",
     "text": [
      "('korea', 'seoul')\n",
      "('canada', 'ottava')\n",
      "('japan', 'tokyo')\n"
     ]
    }
   ],
   "source": [
    "for key in b:\n",
    "    print(key)"
   ]
  },
  {
   "cell_type": "code",
   "execution_count": 17,
   "id": "12d2837b",
   "metadata": {},
   "outputs": [
    {
     "name": "stdout",
     "output_type": "stream",
     "text": [
      "0 10\n",
      "1 20\n",
      "2 30\n",
      "3 40\n"
     ]
    }
   ],
   "source": [
    "a = [10, 20, 30, 40]\n",
    "for index, value in enumerate(a):\n",
    "    print(index, value)"
   ]
  },
  {
   "cell_type": "code",
   "execution_count": 20,
   "id": "4fc890a5",
   "metadata": {},
   "outputs": [
    {
     "name": "stdout",
     "output_type": "stream",
     "text": [
      "(0, 10)\n",
      "(1, 20)\n",
      "(2, 30)\n",
      "(3, 40)\n"
     ]
    }
   ],
   "source": [
    "a = [10, 20, 30, 40]\n",
    "for index in enumerate(a):\n",
    "    print(index)"
   ]
  },
  {
   "cell_type": "code",
   "execution_count": 23,
   "id": "94ea94d9",
   "metadata": {},
   "outputs": [
    {
     "name": "stdout",
     "output_type": "stream",
     "text": [
      "3 40\n"
     ]
    }
   ],
   "source": [
    "for index, value in enumerate(a):\n",
    "    if index > 2:\n",
    "        print(index, value)"
   ]
  },
  {
   "cell_type": "code",
   "execution_count": 25,
   "id": "c17765d5",
   "metadata": {},
   "outputs": [
    {
     "name": "stdout",
     "output_type": "stream",
     "text": [
      "10\n",
      "20\n",
      "30\n"
     ]
    }
   ],
   "source": [
    "a = [10, 20, 30, 40, 50, 60, 70]\n",
    "for value in a:\n",
    "    if  value > 30:\n",
    "        break\n",
    "    print(value)"
   ]
  },
  {
   "cell_type": "code",
   "execution_count": 27,
   "id": "af539f14",
   "metadata": {},
   "outputs": [
    {
     "name": "stdout",
     "output_type": "stream",
     "text": [
      "10\n",
      "20\n",
      "30\n",
      "70\n"
     ]
    }
   ],
   "source": [
    "a = [10, 20, 30, 40, 50, 60, 70]\n",
    "for value in a:\n",
    "    if value > 30 and value < 70:\n",
    "        continue\n",
    "    print(value)"
   ]
  },
  {
   "cell_type": "code",
   "execution_count": 29,
   "id": "84f29a8c",
   "metadata": {},
   "outputs": [
    {
     "name": "stdout",
     "output_type": "stream",
     "text": [
      "1 x 1 = 1\n",
      "1 x 2 = 2\n",
      "1 x 3 = 3\n",
      "2 x 1 = 2\n",
      "2 x 2 = 4\n",
      "2 x 3 = 6\n",
      "3 x 1 = 3\n",
      "3 x 2 = 6\n",
      "3 x 3 = 9\n"
     ]
    }
   ],
   "source": [
    "a = [1, 2, 3]\n",
    "for i in a:\n",
    "    for j in a:\n",
    "        print(i,'x', j, '=', i*j)"
   ]
  },
  {
   "cell_type": "code",
   "execution_count": 30,
   "id": "9e53e77d",
   "metadata": {},
   "outputs": [
    {
     "name": "stdout",
     "output_type": "stream",
     "text": [
      "3\n"
     ]
    }
   ],
   "source": [
    "a = [1, 2, 3]\n",
    "print(len(a))"
   ]
  },
  {
   "cell_type": "code",
   "execution_count": 46,
   "id": "ac5e96c7",
   "metadata": {},
   "outputs": [
    {
     "name": "stdout",
     "output_type": "stream",
     "text": [
      "[0, 1, 2, 3, 4, 5, 6, 7, 8, 9]\n",
      "[10, 11, 12, 13, 14, 15, 16, 17, 18, 19]\n",
      "[10, 12, 14, 16, 18]\n"
     ]
    }
   ],
   "source": [
    "b = list(range(10))\n",
    "c = list(range(10,20))\n",
    "d = list(range(10,20,2))\n",
    "print(b)\n",
    "print(c)\n",
    "print(d)"
   ]
  },
  {
   "cell_type": "markdown",
   "id": "37b68910",
   "metadata": {},
   "source": [
    "### Practice"
   ]
  },
  {
   "cell_type": "code",
   "execution_count": 33,
   "id": "228afee1",
   "metadata": {},
   "outputs": [
    {
     "name": "stdout",
     "output_type": "stream",
     "text": [
      "1 x 1  =  1\n",
      "1 x 2  =  2\n",
      "1 x 3  =  3\n",
      "1 x 4  =  4\n",
      "1 x 5  =  5\n",
      "1 x 6  =  6\n",
      "1 x 7  =  7\n",
      "1 x 8  =  8\n",
      "1 x 9  =  9\n",
      "2 x 1  =  2\n",
      "2 x 2  =  4\n",
      "2 x 3  =  6\n",
      "2 x 4  =  8\n",
      "2 x 5  =  10\n",
      "2 x 6  =  12\n",
      "2 x 7  =  14\n",
      "2 x 8  =  16\n",
      "2 x 9  =  18\n",
      "3 x 1  =  3\n",
      "3 x 2  =  6\n",
      "3 x 3  =  9\n",
      "3 x 4  =  12\n",
      "3 x 5  =  15\n",
      "3 x 6  =  18\n",
      "3 x 7  =  21\n",
      "3 x 8  =  24\n",
      "3 x 9  =  27\n",
      "4 x 1  =  4\n",
      "4 x 2  =  8\n",
      "4 x 3  =  12\n",
      "4 x 4  =  16\n",
      "4 x 5  =  20\n",
      "4 x 6  =  24\n",
      "4 x 7  =  28\n",
      "4 x 8  =  32\n",
      "4 x 9  =  36\n",
      "5 x 1  =  5\n",
      "5 x 2  =  10\n",
      "5 x 3  =  15\n",
      "5 x 4  =  20\n",
      "5 x 5  =  25\n",
      "5 x 6  =  30\n",
      "5 x 7  =  35\n",
      "5 x 8  =  40\n",
      "5 x 9  =  45\n",
      "6 x 1  =  6\n",
      "6 x 2  =  12\n",
      "6 x 3  =  18\n",
      "6 x 4  =  24\n",
      "6 x 5  =  30\n",
      "6 x 6  =  36\n",
      "6 x 7  =  42\n",
      "6 x 8  =  48\n",
      "6 x 9  =  54\n",
      "7 x 1  =  7\n",
      "7 x 2  =  14\n",
      "7 x 3  =  21\n",
      "7 x 4  =  28\n",
      "7 x 5  =  35\n",
      "7 x 6  =  42\n",
      "7 x 7  =  49\n",
      "7 x 8  =  56\n",
      "7 x 9  =  63\n",
      "8 x 1  =  8\n",
      "8 x 2  =  16\n",
      "8 x 3  =  24\n",
      "8 x 4  =  32\n",
      "8 x 5  =  40\n",
      "8 x 6  =  48\n",
      "8 x 7  =  56\n",
      "8 x 8  =  64\n",
      "8 x 9  =  72\n",
      "9 x 1  =  9\n",
      "9 x 2  =  18\n",
      "9 x 3  =  27\n",
      "9 x 4  =  36\n",
      "9 x 5  =  45\n",
      "9 x 6  =  54\n",
      "9 x 7  =  63\n",
      "9 x 8  =  72\n",
      "9 x 9  =  81\n"
     ]
    }
   ],
   "source": [
    "a = 1\n",
    "b = 1\n",
    "while a<10:\n",
    "    b = 1\n",
    "    while b<10:\n",
    "        print(a, 'x', b, ' = ', a*b)\n",
    "        b += 1\n",
    "    a += 1"
   ]
  },
  {
   "cell_type": "code",
   "execution_count": 36,
   "id": "2b57038b",
   "metadata": {},
   "outputs": [
    {
     "name": "stdout",
     "output_type": "stream",
     "text": [
      "2\n",
      "4\n",
      "6\n",
      "8\n",
      "10\n",
      "11\n",
      "12\n",
      "14\n",
      "16\n",
      "18\n",
      "20\n",
      "22\n",
      "24\n",
      "26\n",
      "28\n",
      "30\n",
      "32\n",
      "33\n",
      "34\n",
      "36\n",
      "38\n",
      "40\n",
      "42\n",
      "44\n",
      "46\n",
      "48\n",
      "50\n",
      "52\n",
      "54\n",
      "55\n",
      "56\n",
      "58\n",
      "60\n",
      "62\n",
      "64\n",
      "66\n",
      "68\n",
      "70\n",
      "72\n",
      "74\n",
      "76\n",
      "77\n",
      "78\n",
      "80\n",
      "82\n",
      "84\n",
      "86\n",
      "88\n",
      "90\n",
      "92\n",
      "94\n",
      "96\n",
      "98\n",
      "99\n",
      "100\n"
     ]
    }
   ],
   "source": [
    "a = 1 \n",
    "while a<=100:\n",
    "    if(a%2 == 0):\n",
    "        print(a)\n",
    "    elif(a%11 == 0):\n",
    "        print(a)\n",
    "    a += 1"
   ]
  },
  {
   "cell_type": "code",
   "execution_count": 42,
   "id": "24fbda10",
   "metadata": {},
   "outputs": [
    {
     "name": "stdout",
     "output_type": "stream",
     "text": [
      "max : 80\n",
      "min : 5\n"
     ]
    }
   ],
   "source": [
    "alist = [50, 10, 30, 70, 5, 80,9]\n",
    "mx = alist[0]\n",
    "mn = alist[0]\n",
    "\n",
    "for n in alist:\n",
    "    if(mx < n):\n",
    "        mx = n\n",
    "    if(mn > n):\n",
    "        mn = n\n",
    "print('max :', mx)\n",
    "print('min :', mn)"
   ]
  },
  {
   "cell_type": "code",
   "execution_count": 45,
   "id": "1cec2713",
   "metadata": {},
   "outputs": [
    {
     "name": "stdout",
     "output_type": "stream",
     "text": [
      "36.285714285714285\n"
     ]
    }
   ],
   "source": [
    "alist = [50, 10, 30, 70, 5, 80,9]\n",
    "sum = 0\n",
    "for n in alist:\n",
    "    sum += n\n",
    "result = sum / len(alist)\n",
    "print(result)"
   ]
  },
  {
   "cell_type": "code",
   "execution_count": null,
   "id": "b05062a2",
   "metadata": {},
   "outputs": [],
   "source": []
  }
 ],
 "metadata": {
  "kernelspec": {
   "display_name": "Python 3 (ipykernel)",
   "language": "python",
   "name": "python3"
  },
  "language_info": {
   "codemirror_mode": {
    "name": "ipython",
    "version": 3
   },
   "file_extension": ".py",
   "mimetype": "text/x-python",
   "name": "python",
   "nbconvert_exporter": "python",
   "pygments_lexer": "ipython3",
   "version": "3.10.4"
  }
 },
 "nbformat": 4,
 "nbformat_minor": 5
}
