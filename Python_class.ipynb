{
 "cells": [
  {
   "cell_type": "markdown",
   "id": "d9f2418f",
   "metadata": {},
   "source": [
    "# Class "
   ]
  },
  {
   "cell_type": "code",
   "execution_count": 2,
   "id": "7b60b75a",
   "metadata": {},
   "outputs": [],
   "source": [
    "class Person:\n",
    "    pass"
   ]
  },
  {
   "cell_type": "code",
   "execution_count": 3,
   "id": "627e2d58",
   "metadata": {},
   "outputs": [
    {
     "name": "stdout",
     "output_type": "stream",
     "text": [
      "<class '__main__.Person'>\n",
      "<__main__.Person object at 0x0000020EF288BDF0>\n"
     ]
    }
   ],
   "source": [
    "kang = Person()\n",
    "print(type(kang))\n",
    "print(kang)"
   ]
  },
  {
   "cell_type": "code",
   "execution_count": 4,
   "id": "7fad047e",
   "metadata": {},
   "outputs": [
    {
     "name": "stdout",
     "output_type": "stream",
     "text": [
      "<class 'list'>\n",
      "[]\n"
     ]
    }
   ],
   "source": [
    "a = list()\n",
    "print(type(a))\n",
    "print(a)"
   ]
  },
  {
   "cell_type": "code",
   "execution_count": 6,
   "id": "1feb0364",
   "metadata": {},
   "outputs": [
    {
     "name": "stdout",
     "output_type": "stream",
     "text": [
      "<__main__.Person object at 0x0000020EF3DB75E0> is generated\n",
      "<__main__.Person object at 0x0000020EF3DB7820> is generated\n"
     ]
    }
   ],
   "source": [
    "class Person:\n",
    "    def __init__(self):\n",
    "        print(self, \"is generated\")\n",
    "p1 = Person()\n",
    "p2 = Person()"
   ]
  },
  {
   "cell_type": "code",
   "execution_count": 9,
   "id": "34616cc0",
   "metadata": {},
   "outputs": [],
   "source": [
    "class Person:\n",
    "    def __init__(self, name_in, age_in = 10):\n",
    "        print(self, \"is generated\")\n",
    "        self.name = name_in #여기서 멤버는 name ,age, hobby\n",
    "        self.age = age_in\n",
    "        self.hobby = 'singing'"
   ]
  },
  {
   "cell_type": "code",
   "execution_count": 10,
   "id": "aa1d9409",
   "metadata": {},
   "outputs": [
    {
     "name": "stdout",
     "output_type": "stream",
     "text": [
      "<__main__.Person object at 0x0000020EF288A4D0> is generated\n",
      "<__main__.Person object at 0x0000020EF288B9D0> is generated\n",
      "<__main__.Person object at 0x0000020EF28890F0> is generated\n"
     ]
    }
   ],
   "source": [
    "p1 = Person('Bob', 30)\n",
    "p2 = Person('Kang', 52)\n",
    "p3 = Person('Kim') # age가 없음\n",
    "p1.hobby = 'trip'"
   ]
  },
  {
   "cell_type": "code",
   "execution_count": 11,
   "id": "c878af97",
   "metadata": {},
   "outputs": [
    {
     "name": "stdout",
     "output_type": "stream",
     "text": [
      "Bob 30 trip\n",
      "Kang 52 singing\n",
      "Kim 10 singing\n"
     ]
    }
   ],
   "source": [
    "print(p1.name, p1.age, p1.hobby)\n",
    "print(p2.name, p2.age, p2.hobby)\n",
    "print(p3.name, p3.age, p3.hobby)"
   ]
  },
  {
   "cell_type": "code",
   "execution_count": 25,
   "id": "040fa655",
   "metadata": {},
   "outputs": [],
   "source": [
    "class Counter:\n",
    "    def __init__(self, num):\n",
    "        self.num = num    #멤버는 num\n",
    "    def Increment(self):\n",
    "        self.num += 1\n",
    "    def Reset(self):\n",
    "        self.num = 0\n",
    "    def InputValue(self, num):\n",
    "        self.num = num\n",
    "    def PrintCurrentValue(self):\n",
    "        print('value = ', self.num)\n"
   ]
  },
  {
   "cell_type": "code",
   "execution_count": 26,
   "id": "808b9a7f",
   "metadata": {},
   "outputs": [],
   "source": [
    "c1 = Counter(0)\n",
    "c2 = Counter(10)"
   ]
  },
  {
   "cell_type": "code",
   "execution_count": 27,
   "id": "ed0ead68",
   "metadata": {},
   "outputs": [
    {
     "name": "stdout",
     "output_type": "stream",
     "text": [
      "0\n",
      "10\n"
     ]
    }
   ],
   "source": [
    "print(c1.num)\n",
    "print(c2.num)"
   ]
  },
  {
   "cell_type": "code",
   "execution_count": 28,
   "id": "1de6adc5",
   "metadata": {},
   "outputs": [
    {
     "name": "stdout",
     "output_type": "stream",
     "text": [
      "value =  0\n",
      "value =  10\n"
     ]
    }
   ],
   "source": [
    "c1.PrintCurrentValue()\n",
    "c2.PrintCurrentValue()"
   ]
  },
  {
   "cell_type": "code",
   "execution_count": 29,
   "id": "b5c53b9a",
   "metadata": {},
   "outputs": [],
   "source": [
    "c1.Increment()\n",
    "c1.Increment()\n",
    "c2.Increment()"
   ]
  },
  {
   "cell_type": "code",
   "execution_count": 30,
   "id": "73d1bf78",
   "metadata": {},
   "outputs": [
    {
     "name": "stdout",
     "output_type": "stream",
     "text": [
      "value =  2\n",
      "value =  11\n"
     ]
    }
   ],
   "source": [
    "c1.PrintCurrentValue()\n",
    "c2.PrintCurrentValue()"
   ]
  },
  {
   "cell_type": "code",
   "execution_count": 43,
   "id": "288b37ff",
   "metadata": {},
   "outputs": [],
   "source": [
    "class Compuer:\n",
    "    def add(self, x, y):\n",
    "        return(x+y)\n",
    "    def sub(self, x, y):\n",
    "        return(x-y)"
   ]
  },
  {
   "cell_type": "markdown",
   "id": "b92a1a5f",
   "metadata": {},
   "source": [
    "# static method"
   ]
  },
  {
   "cell_type": "code",
   "execution_count": 44,
   "id": "403145cc",
   "metadata": {},
   "outputs": [
    {
     "name": "stdout",
     "output_type": "stream",
     "text": [
      "30\n",
      "-10\n"
     ]
    }
   ],
   "source": [
    "class Computer:\n",
    "    @staticmethod\n",
    "    def add(x,y):\n",
    "        return(x+y)\n",
    "    @staticmethod\n",
    "    def sub(x,y):\n",
    "        return(x-y)\n",
    "print(Computer.add(10,20))\n",
    "print(Computer.sub(10,20))"
   ]
  },
  {
   "cell_type": "markdown",
   "id": "a8aac31e",
   "metadata": {},
   "source": [
    "# nested class"
   ]
  },
  {
   "cell_type": "code",
   "execution_count": 45,
   "id": "cf0763ae",
   "metadata": {},
   "outputs": [],
   "source": [
    "class Dept:\n",
    "    def __init__(self, dname):\n",
    "        self.dname = dname\n",
    "    def print_dept(self):\n",
    "        print('dept name = ',self.dname)\n",
    "    class Prof:\n",
    "        def __init__(self, pname):\n",
    "            self.pname = pname"
   ]
  },
  {
   "cell_type": "code",
   "execution_count": 47,
   "id": "b05a467d",
   "metadata": {},
   "outputs": [
    {
     "name": "stdout",
     "output_type": "stream",
     "text": [
      "Mathematics\n",
      "Mark\n"
     ]
    }
   ],
   "source": [
    "math = Dept(\"Mathematics\")\n",
    "mathprof = Dept.Prof(\"Mark\")\n",
    "\n",
    "print(math.dname)\n",
    "print(mathprof.pname)"
   ]
  },
  {
   "cell_type": "code",
   "execution_count": 51,
   "id": "8e7dd0f9",
   "metadata": {},
   "outputs": [],
   "source": [
    "class Dept:\n",
    "    def __init__(self, dname):\n",
    "        self.dname = dname\n",
    "        self.inner = self.Prof()\n",
    "    def outer_disp(self):\n",
    "        self.inner.inner_disp(self.dname)\n",
    "    class Prof:\n",
    "        def inner_disp(self,details):\n",
    "            print(details, \"From Inner Class\")"
   ]
  },
  {
   "cell_type": "code",
   "execution_count": 52,
   "id": "4510c549",
   "metadata": {},
   "outputs": [],
   "source": [
    "math = Dept(\"Mathematics\")"
   ]
  },
  {
   "cell_type": "code",
   "execution_count": 53,
   "id": "6916f7d9",
   "metadata": {},
   "outputs": [
    {
     "name": "stdout",
     "output_type": "stream",
     "text": [
      "Mathematics From Inner Class\n"
     ]
    }
   ],
   "source": [
    "math.outer_disp()"
   ]
  },
  {
   "cell_type": "code",
   "execution_count": 54,
   "id": "fe1aacad",
   "metadata": {},
   "outputs": [],
   "source": [
    "class Dept:\n",
    "    def __init__(self, dname):\n",
    "        self.dname = dname\n",
    "    class Prof:\n",
    "        def __init__(self, pname):\n",
    "            self.pname = pname\n",
    "        class Country:\n",
    "            def __init__(self,cname):\n",
    "                self.cname = cname\n"
   ]
  },
  {
   "cell_type": "code",
   "execution_count": 58,
   "id": "85f34c1c",
   "metadata": {},
   "outputs": [
    {
     "name": "stdout",
     "output_type": "stream",
     "text": [
      "Mathematics Mark UK\n"
     ]
    }
   ],
   "source": [
    "math = Dept(\"Mathematics\")\n",
    "mathprof = Dept.Prof(\"Mark\")\n",
    "country = Dept.Prof.Country(\"UK\")\n",
    "\n",
    "print(math.dname,mathprof.pname,country.cname)"
   ]
  },
  {
   "cell_type": "markdown",
   "id": "6ce3720b",
   "metadata": {},
   "source": [
    "# Class inheritance"
   ]
  },
  {
   "cell_type": "code",
   "execution_count": 63,
   "id": "c3105d6a",
   "metadata": {},
   "outputs": [],
   "source": [
    "class Person:\n",
    "    def __init__(self, name, age):\n",
    "        self.name = name\n",
    "        self.age = age\n",
    "    def Eat(self, food):\n",
    "        print('{}는 {}를 먹는다'.format(self.name, food))\n",
    "    def Sleep(self, hour):\n",
    "        print('{}는 {}시간 동안 잔다'.format(self.name, hour))\n",
    "    def Work(self, hour):\n",
    "        print('{}는 {}시간 동안 일한다'.format(self.name, hour))\n",
    "        \n",
    "class Student:\n",
    "    pass\n",
    "\n",
    "class Employee:\n",
    "    pass"
   ]
  },
  {
   "cell_type": "code",
   "execution_count": 64,
   "id": "fa86a483",
   "metadata": {},
   "outputs": [
    {
     "name": "stdout",
     "output_type": "stream",
     "text": [
      "Bob는 BBQ를 먹는다\n",
      "Bob는 8시간 동안 잔다\n",
      "Bob는 10시간 동안 일한다\n"
     ]
    }
   ],
   "source": [
    "bob = Person('Bob', 30)\n",
    "bob.Eat('BBQ')\n",
    "bob.Sleep(8)\n",
    "bob.Work(10)"
   ]
  },
  {
   "cell_type": "code",
   "execution_count": 73,
   "id": "0f6c5e6a",
   "metadata": {},
   "outputs": [],
   "source": [
    "class Student(Person):\n",
    "    def __init__(self, name, age):\n",
    "        self.name = name\n",
    "        self.age = age\n",
    "    def Work(self, hour):\n",
    "        super().Work(hour) # 상위 클래스도 나오게 함\n",
    "        print('{}는 {}시간 동안 공부한다.'.format(self.name, hour))\n",
    "\n",
    "class Employee(Person):\n",
    "    def __init__(self, name, age):\n",
    "        self.name = name\n",
    "        self.age = age\n"
   ]
  },
  {
   "cell_type": "code",
   "execution_count": 74,
   "id": "51279a7a",
   "metadata": {},
   "outputs": [
    {
     "name": "stdout",
     "output_type": "stream",
     "text": [
      "Bob는 BBQ를 먹는다\n",
      "Bob는 8시간 동안 잔다\n",
      "Bob는 10시간 동안 일한다\n",
      "Bob는 10시간 동안 공부한다.\n"
     ]
    }
   ],
   "source": [
    "bob = Student('Bob', 30)\n",
    "bob.Eat('BBQ')\n",
    "bob.Sleep(8)\n",
    "bob.Work(10)"
   ]
  },
  {
   "cell_type": "code",
   "execution_count": 75,
   "id": "afa9ec9e",
   "metadata": {},
   "outputs": [
    {
     "name": "stdout",
     "output_type": "stream",
     "text": [
      "kim는 10시간 동안 일한다\n"
     ]
    }
   ],
   "source": [
    "e1 = Employee('kim',20)\n",
    "e1.Work(10)"
   ]
  },
  {
   "cell_type": "markdown",
   "id": "57f02be0",
   "metadata": {},
   "source": [
    "# Redefintion in class"
   ]
  },
  {
   "cell_type": "code",
   "execution_count": 78,
   "id": "0f8cfbeb",
   "metadata": {},
   "outputs": [
    {
     "name": "stdout",
     "output_type": "stream",
     "text": [
      "(3, 5)\n",
      "(1, -1)\n",
      "<__main__.Point2D object at 0x0000020EF420E230>\n",
      "<__main__.Point2D object at 0x0000020EF420CFD0>\n"
     ]
    }
   ],
   "source": [
    "class Point2D:\n",
    "    def __init__(self, x, y):\n",
    "        self.x = x\n",
    "        self.y = y\n",
    "    def PrintPt(self):\n",
    "        print('({}, {})'.format(self.x, self.y))\n",
    "    \n",
    "p1 = Point2D(3, 5)\n",
    "p2 = Point2D(1, -1)\n",
    "\n",
    "p1.PrintPt()\n",
    "p2.PrintPt()\n",
    "\n",
    "print(p1)\n",
    "print(p2)"
   ]
  },
  {
   "cell_type": "code",
   "execution_count": 82,
   "id": "1a04d932",
   "metadata": {},
   "outputs": [
    {
     "name": "stdout",
     "output_type": "stream",
     "text": [
      "(3, 5)\n",
      "(1, -1)\n"
     ]
    }
   ],
   "source": [
    "class Point2D:\n",
    "    def __init__(self, x, y):\n",
    "        self.x = x\n",
    "        self.y = y\n",
    "    def __str__(self):\n",
    "        return ('({}, {})'.format(self.x, self.y))\n",
    "    \n",
    "p1 = Point2D(3, 5)\n",
    "p2 = Point2D(1, -1)\n",
    "\n",
    "print(p1)\n",
    "print(p2)"
   ]
  },
  {
   "cell_type": "code",
   "execution_count": 83,
   "id": "8f8eebe9",
   "metadata": {},
   "outputs": [
    {
     "name": "stdout",
     "output_type": "stream",
     "text": [
      "(3, 5)\n",
      "(1, -1)\n",
      "(4, 4)\n"
     ]
    }
   ],
   "source": [
    "class Point2D:\n",
    "    def __init__(self, x, y):\n",
    "        self.x = x\n",
    "        self.y = y\n",
    "    def ADD(self, pt):\n",
    "        new_x = self.x + pt.x\n",
    "        new_y = self.y + pt.y\n",
    "        return Point2D(new_x, new_y)\n",
    "    def __str__(self):\n",
    "        return ('({}, {})'.format(self.x, self.y))\n",
    "    \n",
    "p1 = Point2D(3, 5)\n",
    "p2 = Point2D(1, -1)\n",
    "\n",
    "p3 = p1.ADD(p2)\n",
    "print(p1)\n",
    "print(p2)\n",
    "print(p3)"
   ]
  },
  {
   "cell_type": "code",
   "execution_count": 85,
   "id": "c22ad19f",
   "metadata": {},
   "outputs": [
    {
     "name": "stdout",
     "output_type": "stream",
     "text": [
      "(3, 5)\n",
      "(1, -1)\n",
      "(4, 4)\n"
     ]
    }
   ],
   "source": [
    "class Point2D:\n",
    "    def __init__(self, x, y):\n",
    "        self.x = x\n",
    "        self.y = y\n",
    "    def __add__(self, pt):\n",
    "        new_x = self.x + pt.x\n",
    "        new_y = self.y + pt.y\n",
    "        return Point2D(new_x, new_y)\n",
    "    def __str__(self):\n",
    "        return ('({}, {})'.format(self.x, self.y))\n",
    "    \n",
    "p1 = Point2D(3, 5)\n",
    "p2 = Point2D(1, -1)\n",
    "\n",
    "p3 = p1 + p2\n",
    "print(p1)\n",
    "print(p2)\n",
    "print(p3)"
   ]
  },
  {
   "cell_type": "code",
   "execution_count": 86,
   "id": "2766db71",
   "metadata": {},
   "outputs": [
    {
     "name": "stdout",
     "output_type": "stream",
     "text": [
      "(3, -1)\n",
      "(1, -1)\n",
      "(4, 4)\n",
      "(2, -1)\n"
     ]
    }
   ],
   "source": [
    "class Point2D:\n",
    "    def __init__(self, x, y):\n",
    "        self.x = x\n",
    "        self.y = y\n",
    "    def __add__(self, pt):\n",
    "        new_x = self.x + pt.x\n",
    "        new_y = self.y + pt.y\n",
    "        return Point2D(new_x, new_y)\n",
    "    def __sub__(self,pt):\n",
    "        new_x = self.x - pt.x\n",
    "        new_y = self.y = pt.y\n",
    "        return Point2D(new_x, new_y)\n",
    "    def __str__(self):\n",
    "        return ('({}, {})'.format(self.x, self.y))\n",
    "    \n",
    "p1 = Point2D(3, 5)\n",
    "p2 = Point2D(1, -1)\n",
    "\n",
    "p3 = p1 + p2\n",
    "p4 = p1 - p2\n",
    "print(p1)\n",
    "print(p2)\n",
    "print(p3)\n",
    "print(p4)"
   ]
  },
  {
   "cell_type": "code",
   "execution_count": null,
   "id": "2a09ed32",
   "metadata": {},
   "outputs": [],
   "source": []
  }
 ],
 "metadata": {
  "kernelspec": {
   "display_name": "Python 3 (ipykernel)",
   "language": "python",
   "name": "python3"
  },
  "language_info": {
   "codemirror_mode": {
    "name": "ipython",
    "version": 3
   },
   "file_extension": ".py",
   "mimetype": "text/x-python",
   "name": "python",
   "nbconvert_exporter": "python",
   "pygments_lexer": "ipython3",
   "version": "3.10.4"
  }
 },
 "nbformat": 4,
 "nbformat_minor": 5
}
